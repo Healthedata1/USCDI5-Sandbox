{
 "cells": [
  {
   "cell_type": "markdown",
   "metadata": {},
   "source": [
    "## Read Intro Files Line By Line And Save As a CSV/YAML/JSON file For Downstream Reuse\n",
    "\n",
    "1. Use following simple data model that can be easily converted to csv via pandas:\n",
    "\n",
    "columns:  US Core Profile, Mandatory List, Must Support List, Profile Specific Guidance\n",
    "e.g. US Core Patient, ['foo','bar'], ['foo','bar'],  ['foo','bar']\n",
    "~~~\n",
    "d = {\n",
    "    'Profile a': [['foo','bar'], ['foo','bar'],  ['foo','bar'],],\n",
    "    'Profile b': [['foo','bar'], ['foo','bar'],  ['foo','bar'],],\n",
    "    'Profile c': [['foo','bar'], ['foo','bar'],  ['foo','bar'],],\n",
    "}\n",
    "~~~\n",
    "1. Get Intro file from folder\n",
    "1. Create new Row with a \n",
    "1. Read file line by line\n",
    "1. If Mandatory list item save in Mandatory Column\n",
    "1. If MS list item save in MS Column\n",
    "1. If Imp list item save in Imp Column"
   ]
  },
  {
   "cell_type": "code",
   "execution_count": 1,
   "metadata": {},
   "outputs": [],
   "source": [
    "import pandas as pd\n",
    "from yaml import dump as y_dump\n",
    "from pathlib import Path\n",
    "from json import dumps"
   ]
  },
  {
   "cell_type": "markdown",
   "metadata": {},
   "source": []
  },
  {
   "cell_type": "markdown",
   "metadata": {},
   "source": [
    "### Examples Conversions between dict,pandas,csv,json, yaml\n",
    "\n",
    "        d = {\n",
    "            'Profile a': [['foo','bar'], ['foo','bar'],  ['foo','bar'],],\n",
    "            'Profile b': [['foo','bar'], ['foo','bar'],  ['foo','bar'],],\n",
    "            'Profile c': [['foo','bar'], ['foo','bar'],  ['foo','bar'],],\n",
    "        }\n",
    "\n",
    "\n",
    "        df = pd.DataFrame.from_dict(d,'index',columns=('First','Second','Third'))\n",
    "        df.index.name = 'foo'\n",
    "        print(df)\n",
    "        print(df.to_json(indent=2))\n",
    "        print(y_dump(df.to_dict(), indent=2))\n"
   ]
  },
  {
   "cell_type": "code",
   "execution_count": 4,
   "metadata": {},
   "outputs": [
    {
     "name": "stdout",
     "output_type": "stream",
     "text": [
      "/Users/ehaas/Documents/FHIR/USCDI5-Sandbox/input/intro-notes\n",
      "StructureDefinition-us-core-medicationdispense-intro.md\n",
      "['Fetching dispense statuses for medications that have been prescribed to a particular patient', '[Record or update] dispense statuses for medications that have been prescribed for a particular', 'The MedicationDispense resource is used to represent the USCDI medication fill status.']\n",
      "StructureDefinition-us-core-observation-adi-documentation-intro.md\n",
      "['Query for the existence of any advance directive documents the patient may have.', \"[Record or update] observations to indicate a patient's advance directive documents\", 'Care experience preferences expressed by a patient may be documented in narrative (text) form or the result of selecting from a list of options provided by the content creator/implementer.', \"See the existing [Care Experience Preferences at End of Life Grouping] for more specific concepts representing an individual's care experience preferences\"]\n",
      "StructureDefinition-us-core-medicationrequest-intro.md\n",
      "['Fetching all medications that have been prescribed to a patient', 'Fetching all *active* medications that have been prescribed to a patient', 'Fetching all medications that have been prescribed to a patient during a particular encounter', '[Record or update]  medications that have been prescribed for a patient', \"See the [Medication List] section for guidance on accessing a patient's medications, including over-the-counter (OTC) medications and other substances taken for medical and recreational use.\", 'When recording \"self-prescribed\" medication, `requester` **SHOULD** be used to indicate the Patient or RelatedPerson as the prescriber.', 'The MedicationRequest resource can represent that information is from a secondary source using either a boolean flag or a reference using `MedicationRequest.reportedReference`.', 'Although both are marked as Must Support, the server system is not required to support both, but **SHALL** support at least one of these elements.', 'The client application **SHALL** support both elements.', '\\\\*The MedicationRequest resource can communicate the reason or indication for treatment using either a code in `MedicationRequest.reasonCode` or a reference using `MedicationRequest.reasonReference`.', 'Although both `MedicationRequest.reasonCode` and `MedicationRequest.reasonReference` are marked as Additional USCDI Requirements. The certifying server system is not required to support both, but **SHALL** support at least one of these elements. The certifying client application **SHALL** support both elements.', 'when using  `MedicationRequest.reasonReference`:', 'Servers **SHALL** support *at least one* target resource in `MedicationRequest.reasonReference`. Clients SHALL support all target resources in `MedicationRequest.reasonReference`.', 'The referenced resources **SHOULD** be a US Core Profile as documented in [Referencing US Core Profiles].', 'Source EHR identifiers **SHOULD** be included to support deduplication across MedicationRequest resources. Exposing the EHR identifiers helps client applications identify duplicates.', 'Servers **SHALL** follow the guidance on the [Medication List] page and return all `active` medications as MedicationRequest. It is always best practice to confirm this list with the Patient or Caregiver.', '\\\\*  This profile uses the [US Core Medication Adherence Extension] to report medication adherence. This extension communicates whether a medication has been consumed according to instructions.']\n",
      "StructureDefinition-us-core-immunization-intro.md\n",
      "['Query for immunizations belonging to a Patient', '[Record or update]  immunizations belonging to a Patient', 'Use the status code: `not-done` to represent that an immunization was *not* given.', 'Based upon the ONC U.S. Core Data for Interoperability (USCDI) requirements, [CVX vaccine codes]<sup>1</sup> are required, and the [NDC vaccine codes] **SHOULD** be supported as a translation.', 'The preferred code system identifiers are `http://hl7.org/fhir/sid/cvx` for CVX and `http://hl7.org/fhir/sid/ndc` for NDC vaccine codes. Note that the `vaccineCode` binding link in the formal definition and the CDC links below use the associated OID as the code system identifiers.', 'Be aware that there is a *10-digit (with dashes)* NDC format displayed on drug packaging and an *11-digit (no dashes)* NDC format for billing and prescribing (for example, \"49281-121-65\" and \"49281012165\"). Normalization may be required to avoid validation errors and warnings.', 'The CDC provides the [CDC National Drug Code (NDC) Directory – Vaccine NDC Linker Table] to assist implementers. The example [Immunization-imm-1](Immunization-imm-1.html) illustrates using the CVX and 11-digit NDC codes based on this table.']\n",
      "StructureDefinition-us-core-provenance-intro.md\n",
      "['Query for the Provenance records associated with an Allergy', 'Query for the Provenance records associated with a Problem', 'If a system receives a provider in `Provenance.agent.who` as free text, they must capture who sent them the information as the organization. On request, they  **SHALL** provide this organization as the source and **MAY** include the free text provider.', 'Systems that need to know the activity has occurred **SHOULD** populate the activity.']\n",
      "StructureDefinition-us-core-patient-intro.md\n",
      "['Query for Patient demographic information using Medical Record', 'Query for Patient demographic information using first name, last', 'Notes for *Race*, *Ethnicity*, *Date of Death*, *Previous Name*, *Suffix*, *Previous address*, and *Preferred Language* USCDI Data Elements:', 'The Complex Extensions for Race and Ethnicity allow for one or more codes of which:', '[Must Support] at least one category code from the OMB Race and Ethnicity Categories', 'MAY** include additional detailed codes from CDC Race and Ethnicity Codes', 'SHALL** include a text description', 'Date of Death is communicated using the `Patient.deceasedDateTime` element.', 'Although `Patient.deceased[x]` is marked as 𝗔𝗗𝗗𝗜𝗧𝗜𝗢𝗡𝗔𝗟 𝗨𝗦𝗖𝗗𝗜, certifying systems are not required to support both, but **SHALL** support at least `Patient.deceasedDateTime`', 'Previous name is represented by setting `Patient.name.use` to \"old\" or providing an end date in `Patient.name.period` or doing both.', 'Suffix is represented using the `Patient.name.suffix` element.', 'Previous address is represented by setting `Patient.address.use` to \"old\" or providing an end date in `Patient.address.period` or doing both.', '`Communication.preferred` **MAY** designate a preferred language when multiple languages are represented.', 'The [Patient example] demonstrates how these elements are represented.', '[Certifying systems] **SHALL** and non-certifying systems **SHOULD** follow the [Project US@ Technical Specification for Patient Addresses Final Version 1.0] as the standard style guide for `Patient.address.line` and  `Patient.address.city` for new and updated records.', 'For certifying systems, this requirement does not apply to historical records or documents that are exposed through FHIR-based APIs.', '\\\\*US Core aligns with the [HL7 Gender Harmony Project] gender and sex information, which includes data elements, value sets, and code systems. Refer to it and the [FHIR R5 Patient Resource Gender and Sex Notes] for additional guidance and background for representing Administrative Gender, Sex Assigned at Birth, and Gender Identity. Note that:', 'The US Core Sex Extension meets the [U.S. Core Data for Interoperability (USCDI)] data element \"sex\".', 'The US Core Birth Sex Extension is no longer a USCDI Requirement.', '[Provenance] and the FHIR Extension [Target Element] can document how individual patient demographic data was captured. See [Element Level Provenance] on the [Basic Provenance] page for more information.', \"The Patient's Social Security Numbers **SHOULD NOT** be used as a patient identifier in `Patient.identifier.value`. There is increasing concern over using Social Security Numbers in healthcare due to the risk of identity theft and related issues. Many payers and providers have purged them from their systems and filtered them out of incoming data.\"]\n"
     ]
    }
   ],
   "source": [
    "in_path = Path(r'/Users/ehaas/Documents/FHIR/USCDI5-Sandbox/input/intro-notes')\n",
    "print(in_path)\n",
    "for file in in_path.glob('*-intro.md'):\n",
    "    print(file.name)\n",
    "    content = file.read_text()\n",
    "    list_items = [line.strip(' -*') for line in content.splitlines() if line.lstrip().startswith(\"- \") or line.lstrip().startswith(\"* \")]\n",
    "    print(list_items)   \n",
    "\n",
    "\n",
    "###? convert text to list and read list vs readlines from file method..\n",
    "#/Users/ehaas/Documents/FHIR/USCDI5-Sandbox/input/intro-notes/StructureDefinition-us-core-immunization-intro.md"
   ]
  }
 ],
 "metadata": {
  "kernelspec": {
   "display_name": "jupyter",
   "language": "python",
   "name": "python3"
  },
  "language_info": {
   "codemirror_mode": {
    "name": "ipython",
    "version": 3
   },
   "file_extension": ".py",
   "mimetype": "text/x-python",
   "name": "python",
   "nbconvert_exporter": "python",
   "pygments_lexer": "ipython3",
   "version": "3.10.2"
  }
 },
 "nbformat": 4,
 "nbformat_minor": 2
}
